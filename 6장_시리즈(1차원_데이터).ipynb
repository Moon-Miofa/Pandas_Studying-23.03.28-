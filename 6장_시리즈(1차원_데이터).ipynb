{
  "nbformat": 4,
  "nbformat_minor": 0,
  "metadata": {
    "colab": {
      "provenance": [],
      "authorship_tag": "ABX9TyOPdse3Gy7ZsOesfuNWHOg4",
      "include_colab_link": true
    },
    "kernelspec": {
      "name": "python3",
      "display_name": "Python 3"
    },
    "language_info": {
      "name": "python"
    }
  },
  "cells": [
    {
      "cell_type": "markdown",
      "metadata": {
        "id": "view-in-github",
        "colab_type": "text"
      },
      "source": [
        "<a href=\"https://colab.research.google.com/github/Moon-Miofa/Pandas_Studying-23.03.28-/blob/main/6%EC%9E%A5_%EC%8B%9C%EB%A6%AC%EC%A6%88(1%EC%B0%A8%EC%9B%90_%EB%8D%B0%EC%9D%B4%ED%84%B0).ipynb\" target=\"_parent\"><img src=\"https://colab.research.google.com/assets/colab-badge.svg\" alt=\"Open In Colab\"/></a>"
      ]
    },
    {
      "cell_type": "markdown",
      "source": [
        "#판다스(Pandas)"
      ],
      "metadata": {
        "id": "caFmeNr4RcA7"
      }
    },
    {
      "cell_type": "markdown",
      "source": [
        "파이썬에서 사용하는 데이터 분석기"
      ],
      "metadata": {
        "id": "WOh9LdzIRiij"
      }
    },
    {
      "cell_type": "code",
      "source": [
        "#파이썬에 필요한 기능(패키지)를 장착하기 위한 구문\n",
        "import pandas as pd\n",
        "#판다스를 pd라는 이름으로 불러온다\n",
        "#앞으로 pandas 내장 함수를 불러올 경우에는 pd를 사용한다"
      ],
      "metadata": {
        "id": "Nr8UR-4ZUZhM"
      },
      "execution_count": null,
      "outputs": []
    },
    {
      "cell_type": "markdown",
      "source": [
        "## 시리즈"
      ],
      "metadata": {
        "id": "SYmqhsuPRkog"
      }
    },
    {
      "cell_type": "markdown",
      "source": [
        "데이터 그룹 한줄 → 1차원 데이터(수평 혹은 수직의 1차원)\n",
        "\n",
        "장점 : 리스트, 튜플, 문자열, 딕셔너리 데이터구조(제어구조)의 장점을 모두 갖고 있다."
      ],
      "metadata": {
        "id": "QIKprY9PRmcU"
      }
    },
    {
      "cell_type": "code",
      "source": [
        "# 1월부터 4월까지 평균 온도 데이터\n",
        "pd.Series([-20, -10, 10, 20])\n",
        "# → 리스트, 튜플과 같지만, pandas로 표현하면 데이터를 처리하기 더 용이하다\n",
        "# 명시적 번호가 인덱스이다 → 인덱스가 암묵적이지 않음\n",
        "#Index = 데이터를 구분하는 식별자(번호, 문자)\n",
        "#시리즈의 인덱스는 행에 관한 구분(종적 데이터). 열의 인덱스는 Column 이라고 함"
      ],
      "metadata": {
        "colab": {
          "base_uri": "https://localhost:8080/"
        },
        "id": "SZUzfn57R6Ca",
        "outputId": "27d8806f-82c5-4ff6-fd53-99248a588b00"
      },
      "execution_count": null,
      "outputs": [
        {
          "output_type": "execute_result",
          "data": {
            "text/plain": [
              "0   -20\n",
              "1   -10\n",
              "2    10\n",
              "3    20\n",
              "dtype: int64"
            ]
          },
          "metadata": {},
          "execution_count": 75
        }
      ]
    },
    {
      "cell_type": "code",
      "source": [
        "#pandas의 시리즈 구조와 리스트의 출력 구조가 다르다.\n",
        "[-20, -10, 10, 20]"
      ],
      "metadata": {
        "colab": {
          "base_uri": "https://localhost:8080/"
        },
        "id": "hpZNHEAdWL7w",
        "outputId": "c7ccde10-caaf-482b-e9ca-5a452e070d3c"
      },
      "execution_count": null,
      "outputs": [
        {
          "output_type": "execute_result",
          "data": {
            "text/plain": [
              "[-20, -10, 10, 20]"
            ]
          },
          "metadata": {},
          "execution_count": 76
        }
      ]
    },
    {
      "cell_type": "code",
      "source": [
        "temp = pd.Series([-20, -10, 10, 20])"
      ],
      "metadata": {
        "id": "bjwHhR3hWTWG"
      },
      "execution_count": null,
      "outputs": []
    },
    {
      "cell_type": "code",
      "source": [
        "temp #데이터를 수직(종형 데이터)로 보여주는 이유는 행간의 구분을 명시하는 것"
      ],
      "metadata": {
        "colab": {
          "base_uri": "https://localhost:8080/"
        },
        "id": "okgryyD7Xcos",
        "outputId": "4b5eeff1-357e-4016-c3ed-bc74aad98a9b"
      },
      "execution_count": null,
      "outputs": [
        {
          "output_type": "execute_result",
          "data": {
            "text/plain": [
              "0   -20\n",
              "1   -10\n",
              "2    10\n",
              "3    20\n",
              "dtype: int64"
            ]
          },
          "metadata": {},
          "execution_count": 78
        }
      ]
    },
    {
      "cell_type": "code",
      "source": [
        "temp[0]"
      ],
      "metadata": {
        "colab": {
          "base_uri": "https://localhost:8080/"
        },
        "id": "Exoe41vfXdpW",
        "outputId": "b2e99d44-67f1-494c-94f6-75631a94f028"
      },
      "execution_count": null,
      "outputs": [
        {
          "output_type": "execute_result",
          "data": {
            "text/plain": [
              "-20"
            ]
          },
          "metadata": {},
          "execution_count": 79
        }
      ]
    },
    {
      "cell_type": "code",
      "source": [
        "temp[1]"
      ],
      "metadata": {
        "colab": {
          "base_uri": "https://localhost:8080/"
        },
        "id": "hpPm20jAXq4B",
        "outputId": "553ed9ac-ffd9-41ac-ad0e-a06a4b29ccdf"
      },
      "execution_count": null,
      "outputs": [
        {
          "output_type": "execute_result",
          "data": {
            "text/plain": [
              "-10"
            ]
          },
          "metadata": {},
          "execution_count": 80
        }
      ]
    },
    {
      "cell_type": "code",
      "source": [
        "temp[2]"
      ],
      "metadata": {
        "colab": {
          "base_uri": "https://localhost:8080/"
        },
        "id": "wXGD0B6TXzZu",
        "outputId": "1110d2c7-6155-4ceb-ebe7-f2b8e8bf1caa"
      },
      "execution_count": null,
      "outputs": [
        {
          "output_type": "execute_result",
          "data": {
            "text/plain": [
              "10"
            ]
          },
          "metadata": {},
          "execution_count": 81
        }
      ]
    },
    {
      "cell_type": "code",
      "source": [
        "temp[3] #→ 데이터를 하나하나 가져옴 = 데이터를 indexing 한다."
      ],
      "metadata": {
        "colab": {
          "base_uri": "https://localhost:8080/"
        },
        "id": "0b7wsI5NX0Ca",
        "outputId": "17a3370b-bc2f-4a6b-e786-f954f4d61b9d"
      },
      "execution_count": null,
      "outputs": [
        {
          "output_type": "execute_result",
          "data": {
            "text/plain": [
              "20"
            ]
          },
          "metadata": {},
          "execution_count": 82
        }
      ]
    },
    {
      "cell_type": "code",
      "source": [
        "temp[0:3] #슬라이싱도 가능 → 인덱스 정보로 슬라이스가 가능하다."
      ],
      "metadata": {
        "colab": {
          "base_uri": "https://localhost:8080/"
        },
        "id": "kkHRXuyWZEhW",
        "outputId": "858f4197-7d1c-4b04-a470-a74b2ed264d8"
      },
      "execution_count": null,
      "outputs": [
        {
          "output_type": "execute_result",
          "data": {
            "text/plain": [
              "0   -20\n",
              "1   -10\n",
              "2    10\n",
              "dtype: int64"
            ]
          },
          "metadata": {},
          "execution_count": 83
        }
      ]
    },
    {
      "cell_type": "code",
      "source": [
        "temp.index #인덱스를 확인하는 구문"
      ],
      "metadata": {
        "colab": {
          "base_uri": "https://localhost:8080/"
        },
        "id": "GhN2I55uZJYz",
        "outputId": "57a4504d-81f5-4a0c-e894-bd522d2a51d5"
      },
      "execution_count": null,
      "outputs": [
        {
          "output_type": "execute_result",
          "data": {
            "text/plain": [
              "RangeIndex(start=0, stop=4, step=1)"
            ]
          },
          "metadata": {},
          "execution_count": 84
        }
      ]
    },
    {
      "cell_type": "code",
      "source": [
        "temp = pd.Series([-20, -10, 10, 20], index=['1월', '2월', '3월', '4월'])\n",
        "#인덱스 이름을 지정한다 → 인덱스가 명시적이기에 가능"
      ],
      "metadata": {
        "id": "NtCXjy6pX1Y8"
      },
      "execution_count": null,
      "outputs": []
    },
    {
      "cell_type": "code",
      "source": [
        "temp"
      ],
      "metadata": {
        "colab": {
          "base_uri": "https://localhost:8080/"
        },
        "id": "H5Y2ku6iZxot",
        "outputId": "f16ee9a6-781a-4b38-e6ec-b1e1f0c95129"
      },
      "execution_count": null,
      "outputs": [
        {
          "output_type": "execute_result",
          "data": {
            "text/plain": [
              "1월   -20\n",
              "2월   -10\n",
              "3월    10\n",
              "4월    20\n",
              "dtype: int64"
            ]
          },
          "metadata": {},
          "execution_count": 86
        }
      ]
    },
    {
      "cell_type": "code",
      "source": [
        "temp.index\n",
        "#object = 문자형 인덱스"
      ],
      "metadata": {
        "colab": {
          "base_uri": "https://localhost:8080/"
        },
        "id": "gdVonB1fZz2Y",
        "outputId": "abc1d271-8827-4218-a17a-933818765094"
      },
      "execution_count": null,
      "outputs": [
        {
          "output_type": "execute_result",
          "data": {
            "text/plain": [
              "Index(['1월', '2월', '3월', '4월'], dtype='object')"
            ]
          },
          "metadata": {},
          "execution_count": 87
        }
      ]
    },
    {
      "cell_type": "markdown",
      "source": [
        "index가 문자처럼 바뀌었다 → 마치 딕셔너리처럼 사용할 수 있다"
      ],
      "metadata": {
        "id": "1ASOUlbEZ8mY"
      }
    },
    {
      "cell_type": "code",
      "source": [
        "temp['1월'] #index를 우리가 원하는 것으로 바꾸며, 접근이 용이해진다."
      ],
      "metadata": {
        "colab": {
          "base_uri": "https://localhost:8080/"
        },
        "id": "mteBmjRvaBp7",
        "outputId": "69426e0b-14bf-44ce-f623-c66d356bd841"
      },
      "execution_count": null,
      "outputs": [
        {
          "output_type": "execute_result",
          "data": {
            "text/plain": [
              "-20"
            ]
          },
          "metadata": {},
          "execution_count": 88
        }
      ]
    },
    {
      "cell_type": "code",
      "source": [
        "#딕셔너리와 다르게 슬라이싱이 가능하다.\n",
        "temp['1월':'3월']\n",
        "#문자형 인덱스의 경우, 숫자가 -1의 범위였던 것과 다르게 호출한 key(인덱스)까지 전부 불러온다."
      ],
      "metadata": {
        "colab": {
          "base_uri": "https://localhost:8080/"
        },
        "id": "-JLzUBjQaDNn",
        "outputId": "0f8fd010-914a-442a-c7f4-75294d9d3a7f"
      },
      "execution_count": null,
      "outputs": [
        {
          "output_type": "execute_result",
          "data": {
            "text/plain": [
              "1월   -20\n",
              "2월   -10\n",
              "3월    10\n",
              "dtype: int64"
            ]
          },
          "metadata": {},
          "execution_count": 89
        }
      ]
    },
    {
      "cell_type": "code",
      "source": [],
      "metadata": {
        "id": "2uGKQC_PaTC6"
      },
      "execution_count": null,
      "outputs": []
    }
  ]
}