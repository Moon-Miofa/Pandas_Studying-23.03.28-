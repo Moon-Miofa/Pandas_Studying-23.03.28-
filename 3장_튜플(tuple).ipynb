{
  "nbformat": 4,
  "nbformat_minor": 0,
  "metadata": {
    "colab": {
      "provenance": [],
      "authorship_tag": "ABX9TyMhgK9LY6Rm38g3cLBvIlOe",
      "include_colab_link": true
    },
    "kernelspec": {
      "name": "python3",
      "display_name": "Python 3"
    },
    "language_info": {
      "name": "python"
    }
  },
  "cells": [
    {
      "cell_type": "markdown",
      "metadata": {
        "id": "view-in-github",
        "colab_type": "text"
      },
      "source": [
        "<a href=\"https://colab.research.google.com/github/Moon-Miofa/Pandas_Studying-23.03.28-/blob/main/3%EC%9E%A5_%ED%8A%9C%ED%94%8C(tuple).ipynb\" target=\"_parent\"><img src=\"https://colab.research.google.com/assets/colab-badge.svg\" alt=\"Open In Colab\"/></a>"
      ]
    },
    {
      "cell_type": "markdown",
      "source": [
        "#3.튜플(Tuple)"
      ],
      "metadata": {
        "id": "AWBqGCWY0peh"
      }
    },
    {
      "cell_type": "markdown",
      "source": [
        "튜플은 리스트와 거의 비슷하며 다른 점은 다음과 같다.\n",
        "\n",
        "리스트는 []로 둘렀싸지만, 튜플은 ()로 둘러싼다.\n",
        "\n",
        "리스트는 그 값의 생성, 삭제, 수정이 가능하지만 튜플은 그 값을 바꿀 수 없다.\n",
        "\n",
        "즉, 튜플의 요소값은 한 번 정하면 지우거나 변경할 수 없다."
      ],
      "metadata": {
        "id": "YiwPIz2OynJn"
      }
    },
    {
      "cell_type": "markdown",
      "source": [
        "리스트는 기능이 비교적 많고 복잡하다. -> 용량이 많아진다.\n",
        "\n",
        "원시데이터(raw data)에서 용량차이가 난다.\n",
        "\n",
        "기능을 사용하지 않는다면, 튜플의 경우가 용량이 적고, 메모리의 부담이 적다.\n",
        "\n",
        "메모리 부담의 차이로 속도의 차이가 나지만, 체감할 정도는 아니고, 시스템적 속도의 차이이다.\n",
        "\n",
        "튜플은 값을 변경하지 않을 경우,(RGB값 등)에 사용할 때 적합하다."
      ],
      "metadata": {
        "id": "RXL8pS9BzIeo"
      }
    },
    {
      "cell_type": "code",
      "source": [
        "t1 = ()\n",
        "t1"
      ],
      "metadata": {
        "colab": {
          "base_uri": "https://localhost:8080/"
        },
        "id": "mbULWAsH0Jha",
        "outputId": "29d20fd1-f8b1-4ecc-8d23-726d84fa8b20"
      },
      "execution_count": null,
      "outputs": [
        {
          "output_type": "execute_result",
          "data": {
            "text/plain": [
              "()"
            ]
          },
          "metadata": {},
          "execution_count": 2
        }
      ]
    },
    {
      "cell_type": "code",
      "source": [
        "t1 = (1,) #튜플은 자료가 하나일 때 ','를 사용해 값이 1개인 튜플임을 명시한다.\n",
        "t1"
      ],
      "metadata": {
        "colab": {
          "base_uri": "https://localhost:8080/"
        },
        "id": "5oxQybVu0w6R",
        "outputId": "71ad6dd0-59f7-48e4-e991-86d7b39f5ac1"
      },
      "execution_count": null,
      "outputs": [
        {
          "output_type": "execute_result",
          "data": {
            "text/plain": [
              "(1,)"
            ]
          },
          "metadata": {},
          "execution_count": 5
        }
      ]
    },
    {
      "cell_type": "code",
      "source": [
        "t2 = (1, 2, 3, 4, 5)\n",
        "t2"
      ],
      "metadata": {
        "colab": {
          "base_uri": "https://localhost:8080/"
        },
        "id": "pSC-M22-04kb",
        "outputId": "f4aeff13-0351-4c4a-a9e6-02f5b6497a7e"
      },
      "execution_count": null,
      "outputs": [
        {
          "output_type": "execute_result",
          "data": {
            "text/plain": [
              "(1, 2, 3, 4, 5)"
            ]
          },
          "metadata": {},
          "execution_count": 8
        }
      ]
    },
    {
      "cell_type": "code",
      "source": [
        "t3 = (1, 2, 3, (4, 5, 6))\n",
        "t3"
      ],
      "metadata": {
        "colab": {
          "base_uri": "https://localhost:8080/"
        },
        "id": "3_l9Gdbl1Hgp",
        "outputId": "d017e8ec-f0e3-426b-a953-f038a0e64d35"
      },
      "execution_count": null,
      "outputs": [
        {
          "output_type": "execute_result",
          "data": {
            "text/plain": [
              "(1, 2, 3, (4, 5, 6))"
            ]
          },
          "metadata": {},
          "execution_count": 9
        }
      ]
    },
    {
      "cell_type": "code",
      "source": [
        "t4 = (1, 2, 3, (4, 5, 6, (7, 8, 9)))\n",
        "t4 #리스트와 같이 중첩할 수 있다."
      ],
      "metadata": {
        "colab": {
          "base_uri": "https://localhost:8080/"
        },
        "id": "OeX7HG2B1LJQ",
        "outputId": "5c05a754-ac38-4591-b514-d4272da2741c"
      },
      "execution_count": null,
      "outputs": [
        {
          "output_type": "execute_result",
          "data": {
            "text/plain": [
              "(1, 2, 3, (4, 5, 6, (7, 8, 9)))"
            ]
          },
          "metadata": {},
          "execution_count": 11
        }
      ]
    },
    {
      "cell_type": "code",
      "source": [
        "t4[2]"
      ],
      "metadata": {
        "colab": {
          "base_uri": "https://localhost:8080/"
        },
        "id": "tPUlIbD61Qa8",
        "outputId": "33e5efb5-3436-4086-d22a-d8c8161197ce"
      },
      "execution_count": null,
      "outputs": [
        {
          "output_type": "execute_result",
          "data": {
            "text/plain": [
              "3"
            ]
          },
          "metadata": {},
          "execution_count": 12
        }
      ]
    },
    {
      "cell_type": "code",
      "source": [
        "t4[3]"
      ],
      "metadata": {
        "colab": {
          "base_uri": "https://localhost:8080/"
        },
        "id": "6hy4Ly2B1Vi6",
        "outputId": "96628759-17e8-4557-bd24-e51fd48572bd"
      },
      "execution_count": null,
      "outputs": [
        {
          "output_type": "execute_result",
          "data": {
            "text/plain": [
              "(4, 5, 6, (7, 8, 9))"
            ]
          },
          "metadata": {},
          "execution_count": 14
        }
      ]
    },
    {
      "cell_type": "code",
      "source": [
        "t4[3][2]"
      ],
      "metadata": {
        "colab": {
          "base_uri": "https://localhost:8080/"
        },
        "id": "3J1wKXoR1W8i",
        "outputId": "9a14483b-0880-453e-c68d-27aaf5223ae7"
      },
      "execution_count": null,
      "outputs": [
        {
          "output_type": "execute_result",
          "data": {
            "text/plain": [
              "6"
            ]
          },
          "metadata": {},
          "execution_count": 16
        }
      ]
    },
    {
      "cell_type": "markdown",
      "source": [
        "## 튜플 값을 삭제하거나 수정하려고 할 때"
      ],
      "metadata": {
        "id": "wwGm6u2C1Y_H"
      }
    },
    {
      "cell_type": "code",
      "source": [
        "del t4[1]"
      ],
      "metadata": {
        "colab": {
          "base_uri": "https://localhost:8080/",
          "height": 172
        },
        "id": "_PpqdWoe1epq",
        "outputId": "3829a053-db82-4276-e3e9-46b78331ba0e"
      },
      "execution_count": null,
      "outputs": [
        {
          "output_type": "error",
          "ename": "TypeError",
          "evalue": "ignored",
          "traceback": [
            "\u001b[0;31m---------------------------------------------------------------------------\u001b[0m",
            "\u001b[0;31mTypeError\u001b[0m                                 Traceback (most recent call last)",
            "\u001b[0;32m<ipython-input-17-ee5abf6adbaf>\u001b[0m in \u001b[0;36m<module>\u001b[0;34m\u001b[0m\n\u001b[0;32m----> 1\u001b[0;31m \u001b[0;32mdel\u001b[0m \u001b[0mt4\u001b[0m\u001b[0;34m[\u001b[0m\u001b[0;36m1\u001b[0m\u001b[0;34m]\u001b[0m\u001b[0;34m\u001b[0m\u001b[0;34m\u001b[0m\u001b[0m\n\u001b[0m",
            "\u001b[0;31mTypeError\u001b[0m: 'tuple' object doesn't support item deletion"
          ]
        }
      ]
    },
    {
      "cell_type": "code",
      "source": [
        "t4[1] = 3"
      ],
      "metadata": {
        "colab": {
          "base_uri": "https://localhost:8080/",
          "height": 172
        },
        "id": "gvPLC7VE1hWg",
        "outputId": "5e8b52e5-6e9c-4c5b-e770-53bf4ccfd9cf"
      },
      "execution_count": null,
      "outputs": [
        {
          "output_type": "error",
          "ename": "TypeError",
          "evalue": "ignored",
          "traceback": [
            "\u001b[0;31m---------------------------------------------------------------------------\u001b[0m",
            "\u001b[0;31mTypeError\u001b[0m                                 Traceback (most recent call last)",
            "\u001b[0;32m<ipython-input-18-1da6d71c9cca>\u001b[0m in \u001b[0;36m<module>\u001b[0;34m\u001b[0m\n\u001b[0;32m----> 1\u001b[0;31m \u001b[0mt4\u001b[0m\u001b[0;34m[\u001b[0m\u001b[0;36m1\u001b[0m\u001b[0;34m]\u001b[0m \u001b[0;34m=\u001b[0m \u001b[0;36m3\u001b[0m\u001b[0;34m\u001b[0m\u001b[0;34m\u001b[0m\u001b[0m\n\u001b[0m",
            "\u001b[0;31mTypeError\u001b[0m: 'tuple' object does not support item assignment"
          ]
        }
      ]
    },
    {
      "cell_type": "code",
      "source": [
        "t4[:5]"
      ],
      "metadata": {
        "colab": {
          "base_uri": "https://localhost:8080/"
        },
        "id": "oDHvR8d11jEy",
        "outputId": "d6b81a61-bb3d-4973-ccae-3ca3d5aaf74d"
      },
      "execution_count": null,
      "outputs": [
        {
          "output_type": "execute_result",
          "data": {
            "text/plain": [
              "(1, 2, 3, (4, 5, 6, (7, 8, 9)))"
            ]
          },
          "metadata": {},
          "execution_count": 19
        }
      ]
    },
    {
      "cell_type": "code",
      "source": [
        "t5 = (100, 200, 300)"
      ],
      "metadata": {
        "id": "lJPZMQ3o15Pi"
      },
      "execution_count": null,
      "outputs": []
    },
    {
      "cell_type": "code",
      "source": [
        "t3 + t5"
      ],
      "metadata": {
        "colab": {
          "base_uri": "https://localhost:8080/"
        },
        "id": "BWDMVqxT19cr",
        "outputId": "142d5e15-4c09-47a6-90d3-fe42c7d8c764"
      },
      "execution_count": null,
      "outputs": [
        {
          "output_type": "execute_result",
          "data": {
            "text/plain": [
              "(1, 2, 3, (4, 5, 6), 100, 200, 300)"
            ]
          },
          "metadata": {},
          "execution_count": 24
        }
      ]
    },
    {
      "cell_type": "code",
      "source": [
        "t3 * 3"
      ],
      "metadata": {
        "colab": {
          "base_uri": "https://localhost:8080/"
        },
        "id": "GaXMcHN01_J6",
        "outputId": "5af3d2b8-84dc-4712-cf96-773a2bd83a8e"
      },
      "execution_count": null,
      "outputs": [
        {
          "output_type": "execute_result",
          "data": {
            "text/plain": [
              "(1, 2, 3, (4, 5, 6), 1, 2, 3, (4, 5, 6), 1, 2, 3, (4, 5, 6))"
            ]
          },
          "metadata": {},
          "execution_count": 25
        }
      ]
    },
    {
      "cell_type": "code",
      "source": [
        "len(t3)"
      ],
      "metadata": {
        "colab": {
          "base_uri": "https://localhost:8080/"
        },
        "id": "OZQCp7We2SVr",
        "outputId": "5f387bbc-5f27-4da5-cb6f-2eaf419bb7ff"
      },
      "execution_count": null,
      "outputs": [
        {
          "output_type": "execute_result",
          "data": {
            "text/plain": [
              "4"
            ]
          },
          "metadata": {},
          "execution_count": 26
        }
      ]
    },
    {
      "cell_type": "code",
      "source": [],
      "metadata": {
        "id": "GcSP22Lt2aGj"
      },
      "execution_count": null,
      "outputs": []
    }
  ]
}