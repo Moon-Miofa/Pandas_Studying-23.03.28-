{
  "nbformat": 4,
  "nbformat_minor": 0,
  "metadata": {
    "colab": {
      "provenance": [],
      "authorship_tag": "ABX9TyMWou49VFZNLJqcwYAwdYYQ",
      "include_colab_link": true
    },
    "kernelspec": {
      "name": "python3",
      "display_name": "Python 3"
    },
    "language_info": {
      "name": "python"
    }
  },
  "cells": [
    {
      "cell_type": "markdown",
      "metadata": {
        "id": "view-in-github",
        "colab_type": "text"
      },
      "source": [
        "<a href=\"https://colab.research.google.com/github/Moon-Miofa/Pandas_Studying-23.03.28-/blob/main/2%EC%9E%A5_%EB%A6%AC%EC%8A%A4%ED%8A%B8_.ipynb\" target=\"_parent\"><img src=\"https://colab.research.google.com/assets/colab-badge.svg\" alt=\"Open In Colab\"/></a>"
      ]
    },
    {
      "cell_type": "code",
      "execution_count": null,
      "metadata": {
        "id": "zDnRn3gPpaeh"
      },
      "outputs": [],
      "source": [
        "#문자열에서 사용한 인덱싱, 슬라이싱이 전부 사용된다\n",
        "#리스트는 많은 데이터를 구조적으로 관리하고 연산하기 위한 자료구조\n",
        "#C, 자바는 하나의 자료형의 배열만 만들 수 있다 -> 다양한 자료형은 구조체\n",
        "#리스트의 자료구조는 여러 자료가 가능함"
      ]
    },
    {
      "cell_type": "markdown",
      "source": [
        "#2. 리스트 (list)"
      ],
      "metadata": {
        "id": "rGrtRZqyqyog"
      }
    },
    {
      "cell_type": "markdown",
      "source": [
        "데이터의 모음을 나타낼 때"
      ],
      "metadata": {
        "id": "dDzVbm8aq6Kc"
      }
    },
    {
      "cell_type": "markdown",
      "source": [
        "##리스트 기본구조"
      ],
      "metadata": {
        "id": "4NEJDftPq4qh"
      }
    },
    {
      "cell_type": "code",
      "source": [
        "[1, 3, 5, 7]"
      ],
      "metadata": {
        "colab": {
          "base_uri": "https://localhost:8080/"
        },
        "id": "D7-wTVqBrCH7",
        "outputId": "601cea4f-679e-4ad1-8bb6-078fd1d0fb4c"
      },
      "execution_count": null,
      "outputs": [
        {
          "output_type": "execute_result",
          "data": {
            "text/plain": [
              "[1, 3, 5, 7]"
            ]
          },
          "metadata": {},
          "execution_count": 2
        }
      ]
    },
    {
      "cell_type": "code",
      "source": [
        "ls = [1, 3, 5, 7]\n",
        "ls"
      ],
      "metadata": {
        "colab": {
          "base_uri": "https://localhost:8080/"
        },
        "id": "yC6a7KKjrXzq",
        "outputId": "9ca1429b-55b1-4330-973f-63db6064b3f9"
      },
      "execution_count": null,
      "outputs": [
        {
          "output_type": "execute_result",
          "data": {
            "text/plain": [
              "[1, 3, 5, 7]"
            ]
          },
          "metadata": {},
          "execution_count": 3
        }
      ]
    },
    {
      "cell_type": "code",
      "source": [
        "홀수 = [1, 3, 5, 7] #한글 변수도 가능 but 가급적 영어로 쓰자\n",
        "홀수"
      ],
      "metadata": {
        "colab": {
          "base_uri": "https://localhost:8080/"
        },
        "id": "E11e7dQOrmBF",
        "outputId": "e81aaf6a-7da8-41a6-e074-a57f01d758d9"
      },
      "execution_count": null,
      "outputs": [
        {
          "output_type": "execute_result",
          "data": {
            "text/plain": [
              "[1, 3, 5, 7]"
            ]
          },
          "metadata": {},
          "execution_count": 4
        }
      ]
    },
    {
      "cell_type": "code",
      "source": [
        "a = []\n",
        "a"
      ],
      "metadata": {
        "id": "BBCpatXNrq1Z",
        "colab": {
          "base_uri": "https://localhost:8080/"
        },
        "outputId": "bfa8e55b-387a-4d19-e534-0cdd96689d3f"
      },
      "execution_count": null,
      "outputs": [
        {
          "output_type": "execute_result",
          "data": {
            "text/plain": [
              "[]"
            ]
          },
          "metadata": {},
          "execution_count": 5
        }
      ]
    },
    {
      "cell_type": "code",
      "source": [
        "b = [1, 2, 3, 4]\n",
        "b"
      ],
      "metadata": {
        "colab": {
          "base_uri": "https://localhost:8080/"
        },
        "id": "aP9O8bE7pKWx",
        "outputId": "a19d78dd-eede-4d53-95b5-5fd9d60c0b72"
      },
      "execution_count": null,
      "outputs": [
        {
          "output_type": "execute_result",
          "data": {
            "text/plain": [
              "[1, 2, 3, 4]"
            ]
          },
          "metadata": {},
          "execution_count": 6
        }
      ]
    },
    {
      "cell_type": "code",
      "source": [
        "c =['가', '나', '다', '라', '마']\n",
        "c"
      ],
      "metadata": {
        "colab": {
          "base_uri": "https://localhost:8080/"
        },
        "id": "FyCiaIRrpPTn",
        "outputId": "00ad20f8-76a7-4ba7-ac21-bb337222c6fd"
      },
      "execution_count": null,
      "outputs": [
        {
          "output_type": "execute_result",
          "data": {
            "text/plain": [
              "['가', '나', '다', '라', '마']"
            ]
          },
          "metadata": {},
          "execution_count": 7
        }
      ]
    },
    {
      "cell_type": "code",
      "source": [
        "d = [1, 2, 3, '가', '나', '다']\n",
        "d"
      ],
      "metadata": {
        "colab": {
          "base_uri": "https://localhost:8080/"
        },
        "id": "gy22L2VepV2n",
        "outputId": "90220e0a-4619-4763-8150-0db1dfe6074e"
      },
      "execution_count": null,
      "outputs": [
        {
          "output_type": "execute_result",
          "data": {
            "text/plain": [
              "[1, 2, 3, '가', '나', '다']"
            ]
          },
          "metadata": {},
          "execution_count": 8
        }
      ]
    },
    {
      "cell_type": "code",
      "source": [
        "e = [1, 2, 3, '가', '나', '다', ['a', 'b', 'c']]\n",
        "e"
      ],
      "metadata": {
        "colab": {
          "base_uri": "https://localhost:8080/"
        },
        "id": "eE0_ocCmpiKn",
        "outputId": "a2257ee5-c41c-4760-b401-e8638e54fef8"
      },
      "execution_count": null,
      "outputs": [
        {
          "output_type": "execute_result",
          "data": {
            "text/plain": [
              "[1, 2, 3, '가', '나', '다', ['a', 'b', 'c']]"
            ]
          },
          "metadata": {},
          "execution_count": 9
        }
      ]
    },
    {
      "cell_type": "code",
      "source": [
        "f = [1, 2, 3, '가', '나', '다', ['a', 'b', 'c', ['인천대학교', '파이썬']]]\n",
        "f #f는 'nested'되어있다. '중첩'이 되어있다."
      ],
      "metadata": {
        "colab": {
          "base_uri": "https://localhost:8080/"
        },
        "id": "6q_okT2Ip5dX",
        "outputId": "d0971eff-e8f8-45f4-c498-45213a5cdce2"
      },
      "execution_count": null,
      "outputs": [
        {
          "output_type": "execute_result",
          "data": {
            "text/plain": [
              "[1, 2, 3, '가', '나', '다', ['a', 'b', 'c', ['인천대학교', '파이썬']]]"
            ]
          },
          "metadata": {},
          "execution_count": 10
        }
      ]
    },
    {
      "cell_type": "code",
      "source": [
        "print(a)\n",
        "print(b)\n",
        "print(c)\n",
        "print(d)\n",
        "print(e)\n",
        "print(f)"
      ],
      "metadata": {
        "colab": {
          "base_uri": "https://localhost:8080/"
        },
        "id": "a4f3C6O_qCYs",
        "outputId": "d9abff02-02e0-4ea0-8907-6a7b6f8ebead"
      },
      "execution_count": null,
      "outputs": [
        {
          "output_type": "stream",
          "name": "stdout",
          "text": [
            "[]\n",
            "[1, 2, 3, 4]\n",
            "['가', '나', '다', '라', '마']\n",
            "[1, 2, 3, '가', '나', '다']\n",
            "[1, 2, 3, '가', '나', '다', ['a', 'b', 'c']]\n",
            "[1, 2, 3, '가', '나', '다', ['a', 'b', 'c', ['인천대학교', '파이썬']]]\n"
          ]
        }
      ]
    },
    {
      "cell_type": "markdown",
      "source": [
        "## 리스트 인덱싱"
      ],
      "metadata": {
        "id": "M31qrJ4uqQhd"
      }
    },
    {
      "cell_type": "markdown",
      "source": [
        "암묵적 번호로 데이터를 가져온다"
      ],
      "metadata": {
        "id": "EVP4zN43q2Ir"
      }
    },
    {
      "cell_type": "code",
      "source": [
        "c[0]"
      ],
      "metadata": {
        "colab": {
          "base_uri": "https://localhost:8080/",
          "height": 35
        },
        "id": "A4DF0Ka9rMZ4",
        "outputId": "72f1382b-7c22-4d7b-af98-7b9da4315f5d"
      },
      "execution_count": null,
      "outputs": [
        {
          "output_type": "execute_result",
          "data": {
            "text/plain": [
              "'가'"
            ],
            "application/vnd.google.colaboratory.intrinsic+json": {
              "type": "string"
            }
          },
          "metadata": {},
          "execution_count": 12
        }
      ]
    },
    {
      "cell_type": "code",
      "source": [
        "c[1]"
      ],
      "metadata": {
        "colab": {
          "base_uri": "https://localhost:8080/",
          "height": 35
        },
        "id": "4iEq3s6ArOrv",
        "outputId": "0d5b52d0-f31e-4133-8526-42bf44b6a639"
      },
      "execution_count": null,
      "outputs": [
        {
          "output_type": "execute_result",
          "data": {
            "text/plain": [
              "'나'"
            ],
            "application/vnd.google.colaboratory.intrinsic+json": {
              "type": "string"
            }
          },
          "metadata": {},
          "execution_count": 13
        }
      ]
    },
    {
      "cell_type": "code",
      "source": [
        "c[-1]"
      ],
      "metadata": {
        "colab": {
          "base_uri": "https://localhost:8080/",
          "height": 35
        },
        "id": "WlJPAkrArRBx",
        "outputId": "4db17a86-a599-4b12-db39-04408937af68"
      },
      "execution_count": null,
      "outputs": [
        {
          "output_type": "execute_result",
          "data": {
            "text/plain": [
              "'마'"
            ],
            "application/vnd.google.colaboratory.intrinsic+json": {
              "type": "string"
            }
          },
          "metadata": {},
          "execution_count": 14
        }
      ]
    },
    {
      "cell_type": "code",
      "source": [
        "c[0] + c[3]"
      ],
      "metadata": {
        "colab": {
          "base_uri": "https://localhost:8080/",
          "height": 35
        },
        "id": "fta0lm8grSaM",
        "outputId": "89de8986-4011-4cc6-c2f4-eee908520ba1"
      },
      "execution_count": null,
      "outputs": [
        {
          "output_type": "execute_result",
          "data": {
            "text/plain": [
              "'가라'"
            ],
            "application/vnd.google.colaboratory.intrinsic+json": {
              "type": "string"
            }
          },
          "metadata": {},
          "execution_count": 15
        }
      ]
    },
    {
      "cell_type": "code",
      "source": [
        "e[len(e)-1]"
      ],
      "metadata": {
        "colab": {
          "base_uri": "https://localhost:8080/"
        },
        "id": "VEjJEHDFrdtF",
        "outputId": "41de56db-a279-4688-9929-5df94bc4c8e5"
      },
      "execution_count": null,
      "outputs": [
        {
          "output_type": "execute_result",
          "data": {
            "text/plain": [
              "['a', 'b', 'c']"
            ]
          },
          "metadata": {},
          "execution_count": 16
        }
      ]
    },
    {
      "cell_type": "code",
      "source": [
        "e[0]"
      ],
      "metadata": {
        "colab": {
          "base_uri": "https://localhost:8080/"
        },
        "id": "tx2qVVJcrly1",
        "outputId": "54f814f0-ec4b-426d-ec03-07fef49815ee"
      },
      "execution_count": null,
      "outputs": [
        {
          "output_type": "execute_result",
          "data": {
            "text/plain": [
              "1"
            ]
          },
          "metadata": {},
          "execution_count": 17
        }
      ]
    },
    {
      "cell_type": "code",
      "source": [
        "e[6][0]"
      ],
      "metadata": {
        "colab": {
          "base_uri": "https://localhost:8080/",
          "height": 35
        },
        "id": "83biZdpisF6E",
        "outputId": "236e099e-d671-44c8-e8db-cc41a5d02d2b"
      },
      "execution_count": null,
      "outputs": [
        {
          "output_type": "execute_result",
          "data": {
            "text/plain": [
              "'a'"
            ],
            "application/vnd.google.colaboratory.intrinsic+json": {
              "type": "string"
            }
          },
          "metadata": {},
          "execution_count": 18
        }
      ]
    },
    {
      "cell_type": "code",
      "source": [
        "e[6][1]"
      ],
      "metadata": {
        "colab": {
          "base_uri": "https://localhost:8080/",
          "height": 35
        },
        "id": "KKK4lzI_rr9X",
        "outputId": "f0c62c89-df11-49a6-a7ac-f839f804e8ce"
      },
      "execution_count": null,
      "outputs": [
        {
          "output_type": "execute_result",
          "data": {
            "text/plain": [
              "'b'"
            ],
            "application/vnd.google.colaboratory.intrinsic+json": {
              "type": "string"
            }
          },
          "metadata": {},
          "execution_count": 19
        }
      ]
    },
    {
      "cell_type": "code",
      "source": [
        "e[6][-1]"
      ],
      "metadata": {
        "colab": {
          "base_uri": "https://localhost:8080/",
          "height": 35
        },
        "id": "StCR65Grr8TH",
        "outputId": "375aabcf-fb36-4c43-b6e2-168c28d76fbf"
      },
      "execution_count": null,
      "outputs": [
        {
          "output_type": "execute_result",
          "data": {
            "text/plain": [
              "'c'"
            ],
            "application/vnd.google.colaboratory.intrinsic+json": {
              "type": "string"
            }
          },
          "metadata": {},
          "execution_count": 20
        }
      ]
    },
    {
      "cell_type": "code",
      "source": [
        "a = [1, 2, 3, 4, 5]\n",
        "a"
      ],
      "metadata": {
        "colab": {
          "base_uri": "https://localhost:8080/"
        },
        "id": "uqK1OgyesEBh",
        "outputId": "dbd383e7-574c-4c5c-a392-8bf3784b42ad"
      },
      "execution_count": null,
      "outputs": [
        {
          "output_type": "execute_result",
          "data": {
            "text/plain": [
              "[1, 2, 3, 4, 5]"
            ]
          },
          "metadata": {},
          "execution_count": 21
        }
      ]
    },
    {
      "cell_type": "code",
      "source": [
        "a[0] + a[1] + a[2] + a[3] + a[4]"
      ],
      "metadata": {
        "colab": {
          "base_uri": "https://localhost:8080/"
        },
        "id": "7-sYxag1sOhp",
        "outputId": "ec9bf78b-153e-4712-e058-9341164fab6f"
      },
      "execution_count": null,
      "outputs": [
        {
          "output_type": "execute_result",
          "data": {
            "text/plain": [
              "15"
            ]
          },
          "metadata": {},
          "execution_count": 22
        }
      ]
    },
    {
      "cell_type": "code",
      "source": [
        "sum(a)"
      ],
      "metadata": {
        "colab": {
          "base_uri": "https://localhost:8080/"
        },
        "id": "kXlbXVEKsT7Z",
        "outputId": "48de3657-e6b2-4010-f409-8ab8d9ffbba0"
      },
      "execution_count": null,
      "outputs": [
        {
          "output_type": "execute_result",
          "data": {
            "text/plain": [
              "15"
            ]
          },
          "metadata": {},
          "execution_count": 23
        }
      ]
    },
    {
      "cell_type": "markdown",
      "source": [
        "##삼중리스트에서 인덱싱하기"
      ],
      "metadata": {
        "id": "lPm990U1wRHz"
      }
    },
    {
      "cell_type": "code",
      "source": [
        "a = [1, 2, ['a', 'b', ['c', 'd']]]\n",
        "a"
      ],
      "metadata": {
        "colab": {
          "base_uri": "https://localhost:8080/"
        },
        "id": "8S6ChBTiwXf9",
        "outputId": "d86a7cd8-f6fa-49a4-ceb7-b9a21b8a8799"
      },
      "execution_count": null,
      "outputs": [
        {
          "output_type": "execute_result",
          "data": {
            "text/plain": [
              "[1, 2, ['a', 'b', ['c', 'd']]]"
            ]
          },
          "metadata": {},
          "execution_count": 24
        }
      ]
    },
    {
      "cell_type": "code",
      "source": [
        "a[2]"
      ],
      "metadata": {
        "colab": {
          "base_uri": "https://localhost:8080/"
        },
        "id": "zC5ttGT5we3I",
        "outputId": "c7ad0933-93f6-42dc-9b3f-81a7c4ac7c21"
      },
      "execution_count": null,
      "outputs": [
        {
          "output_type": "execute_result",
          "data": {
            "text/plain": [
              "['a', 'b', ['c', 'd']]"
            ]
          },
          "metadata": {},
          "execution_count": 25
        }
      ]
    },
    {
      "cell_type": "code",
      "source": [
        "a[2][2]"
      ],
      "metadata": {
        "colab": {
          "base_uri": "https://localhost:8080/"
        },
        "id": "eXe4SN3VwjFh",
        "outputId": "246d7e95-3cb1-4752-9a17-7e961f0bece7"
      },
      "execution_count": null,
      "outputs": [
        {
          "output_type": "execute_result",
          "data": {
            "text/plain": [
              "['c', 'd']"
            ]
          },
          "metadata": {},
          "execution_count": 26
        }
      ]
    },
    {
      "cell_type": "code",
      "source": [
        "a[2][2][0]"
      ],
      "metadata": {
        "colab": {
          "base_uri": "https://localhost:8080/",
          "height": 35
        },
        "id": "BtrkwozGwmYS",
        "outputId": "e9f2d814-6e59-4644-abfa-bbc905edb5db"
      },
      "execution_count": null,
      "outputs": [
        {
          "output_type": "execute_result",
          "data": {
            "text/plain": [
              "'c'"
            ],
            "application/vnd.google.colaboratory.intrinsic+json": {
              "type": "string"
            }
          },
          "metadata": {},
          "execution_count": 27
        }
      ]
    },
    {
      "cell_type": "code",
      "source": [
        "a[2][2][1]"
      ],
      "metadata": {
        "colab": {
          "base_uri": "https://localhost:8080/",
          "height": 35
        },
        "id": "MnNw2lTawovF",
        "outputId": "47519166-c99a-4218-9843-64180dbad3a7"
      },
      "execution_count": null,
      "outputs": [
        {
          "output_type": "execute_result",
          "data": {
            "text/plain": [
              "'d'"
            ],
            "application/vnd.google.colaboratory.intrinsic+json": {
              "type": "string"
            }
          },
          "metadata": {},
          "execution_count": 28
        }
      ]
    },
    {
      "cell_type": "markdown",
      "source": [
        "## 리스트 더하기"
      ],
      "metadata": {
        "id": "hYYHc47XsYb6"
      }
    },
    {
      "cell_type": "code",
      "source": [
        "a = [1, 2, 3, 4, 5]\n",
        "b = [6, 7, 8, 9, 10]"
      ],
      "metadata": {
        "id": "LjidD6fns2Lk"
      },
      "execution_count": null,
      "outputs": []
    },
    {
      "cell_type": "code",
      "source": [
        "a + b"
      ],
      "metadata": {
        "colab": {
          "base_uri": "https://localhost:8080/"
        },
        "id": "shGHKDMWs7vQ",
        "outputId": "38506e8d-b9d9-4cda-cb55-b975146d9469"
      },
      "execution_count": null,
      "outputs": [
        {
          "output_type": "execute_result",
          "data": {
            "text/plain": [
              "[1, 2, 3, 4, 5, 6, 7, 8, 9, 10]"
            ]
          },
          "metadata": {},
          "execution_count": 30
        }
      ]
    },
    {
      "cell_type": "code",
      "source": [
        "c = a + b\n",
        "c"
      ],
      "metadata": {
        "colab": {
          "base_uri": "https://localhost:8080/"
        },
        "id": "f8oPAPLVs88J",
        "outputId": "a00c9d55-b129-4090-8a02-02b094103623"
      },
      "execution_count": null,
      "outputs": [
        {
          "output_type": "execute_result",
          "data": {
            "text/plain": [
              "[1, 2, 3, 4, 5, 6, 7, 8, 9, 10]"
            ]
          },
          "metadata": {},
          "execution_count": 31
        }
      ]
    },
    {
      "cell_type": "markdown",
      "source": [
        "## 리스트 반복하기"
      ],
      "metadata": {
        "id": "D_DfA2PKtRBu"
      }
    },
    {
      "cell_type": "code",
      "source": [
        "a * 3"
      ],
      "metadata": {
        "colab": {
          "base_uri": "https://localhost:8080/"
        },
        "id": "ZkFyvzBvtddT",
        "outputId": "3a1fcf90-5d4b-41b5-84f1-cfbf21263fed"
      },
      "execution_count": null,
      "outputs": [
        {
          "output_type": "execute_result",
          "data": {
            "text/plain": [
              "[1, 2, 3, 4, 5, 1, 2, 3, 4, 5, 1, 2, 3, 4, 5]"
            ]
          },
          "metadata": {},
          "execution_count": 32
        }
      ]
    },
    {
      "cell_type": "code",
      "source": [
        "d = a * 3\n",
        "d"
      ],
      "metadata": {
        "colab": {
          "base_uri": "https://localhost:8080/"
        },
        "id": "4INHDWftte9U",
        "outputId": "90896d25-9aef-4355-ed01-b4422cd68862"
      },
      "execution_count": null,
      "outputs": [
        {
          "output_type": "execute_result",
          "data": {
            "text/plain": [
              "[1, 2, 3, 4, 5, 1, 2, 3, 4, 5, 1, 2, 3, 4, 5]"
            ]
          },
          "metadata": {},
          "execution_count": 33
        }
      ]
    },
    {
      "cell_type": "markdown",
      "source": [
        "## 리스트 길이"
      ],
      "metadata": {
        "id": "A0KiPKpqti_Z"
      }
    },
    {
      "cell_type": "code",
      "source": [
        "len(a)"
      ],
      "metadata": {
        "colab": {
          "base_uri": "https://localhost:8080/"
        },
        "id": "jvRB5HkgtroQ",
        "outputId": "1a3b5fd0-fcbf-4187-d6f6-69e3c9faf417"
      },
      "execution_count": null,
      "outputs": [
        {
          "output_type": "execute_result",
          "data": {
            "text/plain": [
              "5"
            ]
          },
          "metadata": {},
          "execution_count": 34
        }
      ]
    },
    {
      "cell_type": "markdown",
      "source": [
        "## 리스트에서 값 수정하기"
      ],
      "metadata": {
        "id": "cKA4b44Lw47F"
      }
    },
    {
      "cell_type": "code",
      "source": [
        "a = [1, 2, 3, 4, 5]"
      ],
      "metadata": {
        "id": "-NBM7SnNw9cK"
      },
      "execution_count": null,
      "outputs": []
    },
    {
      "cell_type": "code",
      "source": [
        "a[2] = 6\n",
        "a"
      ],
      "metadata": {
        "colab": {
          "base_uri": "https://localhost:8080/"
        },
        "id": "8nbIGrKFxCQ5",
        "outputId": "9bf9b35b-060b-4c81-9362-040383ec8c61"
      },
      "execution_count": null,
      "outputs": [
        {
          "output_type": "execute_result",
          "data": {
            "text/plain": [
              "[1, 2, 6, 4, 5]"
            ]
          },
          "metadata": {},
          "execution_count": 36
        }
      ]
    },
    {
      "cell_type": "code",
      "source": [
        "a[1] = 100\n",
        "a"
      ],
      "metadata": {
        "colab": {
          "base_uri": "https://localhost:8080/"
        },
        "id": "lgXeaPNqxL0Z",
        "outputId": "a87c9990-0bea-49b8-9ef6-b01680a36097"
      },
      "execution_count": null,
      "outputs": [
        {
          "output_type": "execute_result",
          "data": {
            "text/plain": [
              "[1, 100, 6, 4, 5]"
            ]
          },
          "metadata": {},
          "execution_count": 37
        }
      ]
    },
    {
      "cell_type": "markdown",
      "source": [
        "## 리스트에서 값 삭제하기"
      ],
      "metadata": {
        "id": "mf-Vd5zvxPfG"
      }
    },
    {
      "cell_type": "code",
      "source": [
        "del a[1]"
      ],
      "metadata": {
        "id": "FS64g5_Pxady"
      },
      "execution_count": null,
      "outputs": []
    },
    {
      "cell_type": "code",
      "source": [
        "a"
      ],
      "metadata": {
        "colab": {
          "base_uri": "https://localhost:8080/"
        },
        "id": "aan1qzL0xgCe",
        "outputId": "42f3f441-a199-4c28-f3aa-14cd087a7dbd"
      },
      "execution_count": null,
      "outputs": [
        {
          "output_type": "execute_result",
          "data": {
            "text/plain": [
              "[1, 6, 4, 5]"
            ]
          },
          "metadata": {},
          "execution_count": 39
        }
      ]
    },
    {
      "cell_type": "code",
      "source": [
        "del a"
      ],
      "metadata": {
        "id": "ikNTfnGBxgd2"
      },
      "execution_count": null,
      "outputs": []
    },
    {
      "cell_type": "code",
      "source": [
        "a"
      ],
      "metadata": {
        "colab": {
          "base_uri": "https://localhost:8080/",
          "height": 172
        },
        "id": "GyOOXqnSxi-C",
        "outputId": "236ab4ae-8561-4af1-9adb-b277321d1d64"
      },
      "execution_count": null,
      "outputs": [
        {
          "output_type": "error",
          "ename": "NameError",
          "evalue": "ignored",
          "traceback": [
            "\u001b[0;31m---------------------------------------------------------------------------\u001b[0m",
            "\u001b[0;31mNameError\u001b[0m                                 Traceback (most recent call last)",
            "\u001b[0;32m<ipython-input-41-3f786850e387>\u001b[0m in \u001b[0;36m<module>\u001b[0;34m\u001b[0m\n\u001b[0;32m----> 1\u001b[0;31m \u001b[0ma\u001b[0m\u001b[0;34m\u001b[0m\u001b[0;34m\u001b[0m\u001b[0m\n\u001b[0m",
            "\u001b[0;31mNameError\u001b[0m: name 'a' is not defined"
          ]
        }
      ]
    },
    {
      "cell_type": "markdown",
      "source": [
        "## 리스트 슬라이싱"
      ],
      "metadata": {
        "id": "hOTH-sgaxrkq"
      }
    },
    {
      "cell_type": "code",
      "source": [
        "a = [1, 2, 3, 4, 5, 6, 7, 8, 9, 10]\n",
        "a"
      ],
      "metadata": {
        "colab": {
          "base_uri": "https://localhost:8080/"
        },
        "id": "zSjFlBuLxtlk",
        "outputId": "f86c11bd-f56d-4ee5-817e-c9f59ac852db"
      },
      "execution_count": null,
      "outputs": [
        {
          "output_type": "execute_result",
          "data": {
            "text/plain": [
              "[1, 2, 3, 4, 5, 6, 7, 8, 9, 10]"
            ]
          },
          "metadata": {},
          "execution_count": 42
        }
      ]
    },
    {
      "cell_type": "code",
      "source": [
        "a[0:5]"
      ],
      "metadata": {
        "colab": {
          "base_uri": "https://localhost:8080/"
        },
        "id": "wn4jNs_Xxuyy",
        "outputId": "4e4b3d4a-b488-4e6b-fd9a-3f706acefdd1"
      },
      "execution_count": null,
      "outputs": [
        {
          "output_type": "execute_result",
          "data": {
            "text/plain": [
              "[1, 2, 3, 4, 5]"
            ]
          },
          "metadata": {},
          "execution_count": 43
        }
      ]
    },
    {
      "cell_type": "code",
      "source": [
        "a[:7]"
      ],
      "metadata": {
        "colab": {
          "base_uri": "https://localhost:8080/"
        },
        "id": "XGiQesWRxxOT",
        "outputId": "7e663926-05fc-4918-c2f9-5c981f225fe5"
      },
      "execution_count": null,
      "outputs": [
        {
          "output_type": "execute_result",
          "data": {
            "text/plain": [
              "[1, 2, 3, 4, 5, 6, 7]"
            ]
          },
          "metadata": {},
          "execution_count": 44
        }
      ]
    },
    {
      "cell_type": "code",
      "source": [
        "del a[:3]"
      ],
      "metadata": {
        "id": "OYHv_TT2x7vo"
      },
      "execution_count": null,
      "outputs": []
    },
    {
      "cell_type": "code",
      "source": [
        "a"
      ],
      "metadata": {
        "colab": {
          "base_uri": "https://localhost:8080/"
        },
        "id": "Mm9RBRoOyKQL",
        "outputId": "2ea4634a-7989-41e6-b48d-67a6fc5796ba"
      },
      "execution_count": null,
      "outputs": [
        {
          "output_type": "execute_result",
          "data": {
            "text/plain": [
              "[4, 5, 6, 7, 8, 9, 10]"
            ]
          },
          "metadata": {},
          "execution_count": 46
        }
      ]
    },
    {
      "cell_type": "code",
      "source": [
        "a[:3] = [100, 200, 300]"
      ],
      "metadata": {
        "id": "PM8fOOo9yKpl"
      },
      "execution_count": null,
      "outputs": []
    },
    {
      "cell_type": "code",
      "source": [
        "a"
      ],
      "metadata": {
        "id": "mHkFd9uNyUME",
        "outputId": "25776348-5156-448d-85ac-fd86f4f6ee24",
        "colab": {
          "base_uri": "https://localhost:8080/"
        }
      },
      "execution_count": null,
      "outputs": [
        {
          "output_type": "execute_result",
          "data": {
            "text/plain": [
              "[100, 200, 300, 7, 8, 9, 10]"
            ]
          },
          "metadata": {},
          "execution_count": 48
        }
      ]
    },
    {
      "cell_type": "code",
      "source": [
        "Trash = int(input())\n",
        "Num = list(map(int, input().split()))\n",
        "Value = int(input())\n",
        "Num.count(Value)"
      ],
      "metadata": {
        "colab": {
          "base_uri": "https://localhost:8080/"
        },
        "id": "p_yB-83TyFYb",
        "outputId": "fdd61bb5-d165-404e-e866-c499dfe29291"
      },
      "execution_count": null,
      "outputs": [
        {
          "name": "stdout",
          "output_type": "stream",
          "text": [
            "1\n",
            "1 2\n",
            "3\n"
          ]
        },
        {
          "output_type": "execute_result",
          "data": {
            "text/plain": [
              "0"
            ]
          },
          "metadata": {},
          "execution_count": 49
        }
      ]
    },
    {
      "cell_type": "code",
      "source": [
        "Counter = int(input())\n",
        "Counter = 0\n",
        "Num = list(map(int, input().split()))\n",
        "Num.sort()\n",
        "Value = int(input())\n",
        "for i in range(len(Num)):\n",
        "  if Num[i] < Value: Counter += 1\n",
        "  else: \n",
        "    print(Counter)\n",
        "    break"
      ],
      "metadata": {
        "id": "GYA5FU9Qz_dG"
      },
      "execution_count": null,
      "outputs": []
    }
  ]
}