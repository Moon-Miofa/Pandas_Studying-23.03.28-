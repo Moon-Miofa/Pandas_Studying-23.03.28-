{
  "nbformat": 4,
  "nbformat_minor": 0,
  "metadata": {
    "colab": {
      "provenance": [],
      "authorship_tag": "ABX9TyN57lgQGpy3Cev6AnUHwh2c",
      "include_colab_link": true
    },
    "kernelspec": {
      "name": "python3",
      "display_name": "Python 3"
    },
    "language_info": {
      "name": "python"
    }
  },
  "cells": [
    {
      "cell_type": "markdown",
      "metadata": {
        "id": "view-in-github",
        "colab_type": "text"
      },
      "source": [
        "<a href=\"https://colab.research.google.com/github/Moon-Miofa/Pandas_Studying-23.03.28-/blob/main/5%EC%9E%A5_%EB%B0%98%EB%B3%B5%EB%AC%B8%EA%B3%BC_%EC%A1%B0%EA%B1%B4%EB%AC%B8.ipynb\" target=\"_parent\"><img src=\"https://colab.research.google.com/assets/colab-badge.svg\" alt=\"Open In Colab\"/></a>"
      ]
    },
    {
      "cell_type": "markdown",
      "source": [
        "# 5장 반복문과 조건문 → 제어문"
      ],
      "metadata": {
        "id": "kZj93Zy6NBS3"
      }
    },
    {
      "cell_type": "markdown",
      "source": [
        "## 반복문 (for 반복문만)"
      ],
      "metadata": {
        "id": "aFg4czQnPxD7"
      }
    },
    {
      "cell_type": "markdown",
      "source": [
        "반복 : loop, iteration\n",
        "     \n",
        "     for 반복문 = 반복 횟수가 정해져있음\n",
        "     while 반복문 = 반복 횟수가 명확하지 않으면서, 반복을 수행해야 할 때"
      ],
      "metadata": {
        "id": "8UQ3eqkFNZzD"
      }
    },
    {
      "cell_type": "markdown",
      "source": [
        "반복문과 문자열 데이터"
      ],
      "metadata": {
        "id": "RD8VLCvBQhoE"
      }
    },
    {
      "cell_type": "code",
      "source": [
        "'인천대학교 하계 소프트웨어 특강 파이썬 데이터 분석 시작하기'"
      ],
      "metadata": {
        "colab": {
          "base_uri": "https://localhost:8080/",
          "height": 35
        },
        "id": "V-C3a7mkPiuJ",
        "outputId": "c138f042-63a3-4a13-fdb9-fc7ac1485f45"
      },
      "execution_count": null,
      "outputs": [
        {
          "output_type": "execute_result",
          "data": {
            "text/plain": [
              "'인천대학교 하계 소프트웨어 특강 파이썬 데이터 분석 시작하기'"
            ],
            "application/vnd.google.colaboratory.intrinsic+json": {
              "type": "string"
            }
          },
          "metadata": {},
          "execution_count": 1
        }
      ]
    },
    {
      "cell_type": "code",
      "source": [
        "s = '인천대학교 하계 소프트웨어 특강 파이썬 데이터 분석 시작하기'"
      ],
      "metadata": {
        "id": "iB76nkgRP_gs"
      },
      "execution_count": null,
      "outputs": []
    },
    {
      "cell_type": "code",
      "source": [
        "s[0]"
      ],
      "metadata": {
        "colab": {
          "base_uri": "https://localhost:8080/",
          "height": 35
        },
        "id": "h8UUrC6vQINY",
        "outputId": "e3fcc963-ecae-4b87-902d-5a10ff0fa866"
      },
      "execution_count": null,
      "outputs": [
        {
          "output_type": "execute_result",
          "data": {
            "text/plain": [
              "'인'"
            ],
            "application/vnd.google.colaboratory.intrinsic+json": {
              "type": "string"
            }
          },
          "metadata": {},
          "execution_count": 3
        }
      ]
    },
    {
      "cell_type": "code",
      "source": [
        "s[1]"
      ],
      "metadata": {
        "colab": {
          "base_uri": "https://localhost:8080/",
          "height": 35
        },
        "id": "tiMrnGyxQJ5F",
        "outputId": "cf72996d-577c-4ee5-d530-3dac2353e4bd"
      },
      "execution_count": null,
      "outputs": [
        {
          "output_type": "execute_result",
          "data": {
            "text/plain": [
              "'천'"
            ],
            "application/vnd.google.colaboratory.intrinsic+json": {
              "type": "string"
            }
          },
          "metadata": {},
          "execution_count": 4
        }
      ]
    },
    {
      "cell_type": "code",
      "source": [
        "for ch in s:\n",
        "  print(ch)"
      ],
      "metadata": {
        "colab": {
          "base_uri": "https://localhost:8080/"
        },
        "id": "fOvFwRTNQKoi",
        "outputId": "c7de4d32-a8d6-4e9f-f415-04817cb79125"
      },
      "execution_count": null,
      "outputs": [
        {
          "output_type": "stream",
          "name": "stdout",
          "text": [
            "인\n",
            "천\n",
            "대\n",
            "학\n",
            "교\n",
            " \n",
            "하\n",
            "계\n",
            " \n",
            "소\n",
            "프\n",
            "트\n",
            "웨\n",
            "어\n",
            " \n",
            "특\n",
            "강\n",
            " \n",
            "파\n",
            "이\n",
            "썬\n",
            " \n",
            "데\n",
            "이\n",
            "터\n",
            " \n",
            "분\n",
            "석\n",
            " \n",
            "시\n",
            "작\n",
            "하\n",
            "기\n"
          ]
        }
      ]
    },
    {
      "cell_type": "code",
      "source": [
        "for A in '인천대학교 하계 소프트웨어 특강 파이썬 데이터 분석 시작하기': \n",
        "           #보통 뒤에 오는 데이터는 그룹 데이터\n",
        "  print(A)"
      ],
      "metadata": {
        "colab": {
          "base_uri": "https://localhost:8080/"
        },
        "id": "XB7BXrcSQvhu",
        "outputId": "465f8e70-2367-42f2-baba-960992140792"
      },
      "execution_count": null,
      "outputs": [
        {
          "output_type": "stream",
          "name": "stdout",
          "text": [
            "인\n",
            "천\n",
            "대\n",
            "학\n",
            "교\n",
            " \n",
            "하\n",
            "계\n",
            " \n",
            "소\n",
            "프\n",
            "트\n",
            "웨\n",
            "어\n",
            " \n",
            "특\n",
            "강\n",
            " \n",
            "파\n",
            "이\n",
            "썬\n",
            " \n",
            "데\n",
            "이\n",
            "터\n",
            " \n",
            "분\n",
            "석\n",
            " \n",
            "시\n",
            "작\n",
            "하\n",
            "기\n"
          ]
        }
      ]
    },
    {
      "cell_type": "code",
      "source": [
        "for idx in range(33):\n",
        "  print(idx)"
      ],
      "metadata": {
        "colab": {
          "base_uri": "https://localhost:8080/"
        },
        "id": "br7iLw6hSCve",
        "outputId": "5e97843a-f3b3-4608-c641-800ef4f858af"
      },
      "execution_count": null,
      "outputs": [
        {
          "output_type": "stream",
          "name": "stdout",
          "text": [
            "0\n",
            "1\n",
            "2\n",
            "3\n",
            "4\n",
            "5\n",
            "6\n",
            "7\n",
            "8\n",
            "9\n",
            "10\n",
            "11\n",
            "12\n",
            "13\n",
            "14\n",
            "15\n",
            "16\n",
            "17\n",
            "18\n",
            "19\n",
            "20\n",
            "21\n",
            "22\n",
            "23\n",
            "24\n",
            "25\n",
            "26\n",
            "27\n",
            "28\n",
            "29\n",
            "30\n",
            "31\n",
            "32\n"
          ]
        }
      ]
    },
    {
      "cell_type": "code",
      "source": [
        "for idx in range(len(s)):\n",
        "  print(s[idx])"
      ],
      "metadata": {
        "colab": {
          "base_uri": "https://localhost:8080/"
        },
        "id": "9eOdjUjNTb6Z",
        "outputId": "afbfcc29-2008-4855-b9c7-99dccb096d44"
      },
      "execution_count": null,
      "outputs": [
        {
          "output_type": "stream",
          "name": "stdout",
          "text": [
            "인\n",
            "천\n",
            "대\n",
            "학\n",
            "교\n",
            " \n",
            "하\n",
            "계\n",
            " \n",
            "소\n",
            "프\n",
            "트\n",
            "웨\n",
            "어\n",
            " \n",
            "특\n",
            "강\n",
            " \n",
            "파\n",
            "이\n",
            "썬\n",
            " \n",
            "데\n",
            "이\n",
            "터\n",
            " \n",
            "분\n",
            "석\n",
            " \n",
            "시\n",
            "작\n",
            "하\n",
            "기\n"
          ]
        }
      ]
    },
    {
      "cell_type": "markdown",
      "source": [
        "반복문과 리스트"
      ],
      "metadata": {
        "id": "iv11xRmJUPfD"
      }
    },
    {
      "cell_type": "code",
      "source": [
        "for num in [10, 20, 30, 40, 50, 60, 70]:\n",
        "  print(num*10)"
      ],
      "metadata": {
        "colab": {
          "base_uri": "https://localhost:8080/"
        },
        "id": "NoTbYeXeUWRE",
        "outputId": "2fec9bff-f953-4631-9850-678b610ac672"
      },
      "execution_count": null,
      "outputs": [
        {
          "output_type": "stream",
          "name": "stdout",
          "text": [
            "100\n",
            "200\n",
            "300\n",
            "400\n",
            "500\n",
            "600\n",
            "700\n"
          ]
        }
      ]
    },
    {
      "cell_type": "code",
      "source": [
        "ls = [10, 20, 30, 40, 50, 60, 70]"
      ],
      "metadata": {
        "id": "fbKDi9RuU8uE"
      },
      "execution_count": null,
      "outputs": []
    },
    {
      "cell_type": "code",
      "source": [
        "for idx in range(7):\n",
        "  print(ls[idx])"
      ],
      "metadata": {
        "colab": {
          "base_uri": "https://localhost:8080/"
        },
        "id": "KfIPoRzwUld1",
        "outputId": "6e0c4613-9919-4bbe-c721-4cc04a0b8cca"
      },
      "execution_count": null,
      "outputs": [
        {
          "output_type": "stream",
          "name": "stdout",
          "text": [
            "10\n",
            "20\n",
            "30\n",
            "40\n",
            "50\n",
            "60\n",
            "70\n"
          ]
        }
      ]
    },
    {
      "cell_type": "code",
      "source": [
        "for idx in range(len(ls)):\n",
        "  #리스트가 매우 길다면, len을 활용해 끝을 지정해준다\n",
        "  print(ls[idx])"
      ],
      "metadata": {
        "colab": {
          "base_uri": "https://localhost:8080/"
        },
        "id": "jQHP_xZvVKN3",
        "outputId": "0df2c5dc-fa12-4e87-893d-79a73da9be09"
      },
      "execution_count": null,
      "outputs": [
        {
          "output_type": "stream",
          "name": "stdout",
          "text": [
            "10\n",
            "20\n",
            "30\n",
            "40\n",
            "50\n",
            "60\n",
            "70\n"
          ]
        }
      ]
    },
    {
      "cell_type": "code",
      "source": [
        "total = 0\n",
        "\n",
        "for idx in range(len(ls)): #혹은 for num in ls:\n",
        "  total = total + ls[idx]  #      total = total + num \n",
        "\n",
        "print(total)"
      ],
      "metadata": {
        "colab": {
          "base_uri": "https://localhost:8080/"
        },
        "id": "ilQuqH-mVSVh",
        "outputId": "db4631dd-cd7d-4f0c-ce5b-5fa63f59b972"
      },
      "execution_count": null,
      "outputs": [
        {
          "output_type": "stream",
          "name": "stdout",
          "text": [
            "280\n"
          ]
        }
      ]
    },
    {
      "cell_type": "markdown",
      "source": [
        "반복문과 튜플"
      ],
      "metadata": {
        "id": "i7ks3cDcWB_z"
      }
    },
    {
      "cell_type": "code",
      "source": [
        "for num in (10, 20, 30, 40, 50):\n",
        "  print(num)"
      ],
      "metadata": {
        "colab": {
          "base_uri": "https://localhost:8080/"
        },
        "id": "qBNSG9beXnFR",
        "outputId": "3408c828-ccf3-4b76-fd7d-ee9362232139"
      },
      "execution_count": null,
      "outputs": [
        {
          "output_type": "stream",
          "name": "stdout",
          "text": [
            "10\n",
            "20\n",
            "30\n",
            "40\n",
            "50\n"
          ]
        }
      ]
    },
    {
      "cell_type": "code",
      "source": [
        "total = 0\n",
        "for num in (10, 20, 30, 40, 50):\n",
        "  total = total + num"
      ],
      "metadata": {
        "id": "fJrn1ANIXrzs"
      },
      "execution_count": null,
      "outputs": []
    },
    {
      "cell_type": "code",
      "source": [
        "total"
      ],
      "metadata": {
        "colab": {
          "base_uri": "https://localhost:8080/"
        },
        "id": "dAxPeTSwXyj3",
        "outputId": "df1801cf-ae07-4f01-9bca-6182f566de04"
      },
      "execution_count": null,
      "outputs": [
        {
          "output_type": "execute_result",
          "data": {
            "text/plain": [
              "150"
            ]
          },
          "metadata": {},
          "execution_count": 16
        }
      ]
    },
    {
      "cell_type": "code",
      "source": [
        "tp = (10, 20, 30, 40, 50)"
      ],
      "metadata": {
        "id": "LX2J5lgvXy_4"
      },
      "execution_count": null,
      "outputs": []
    },
    {
      "cell_type": "code",
      "source": [
        "total = 0\n",
        "for num in range(len(tp)):\n",
        "  total = total + num"
      ],
      "metadata": {
        "id": "lQalHbciX_4J"
      },
      "execution_count": null,
      "outputs": []
    },
    {
      "cell_type": "code",
      "source": [
        "total"
      ],
      "metadata": {
        "colab": {
          "base_uri": "https://localhost:8080/"
        },
        "id": "T0BnJRqQYEFP",
        "outputId": "20f5cd2d-3723-490c-fb6b-09267f24993c"
      },
      "execution_count": null,
      "outputs": [
        {
          "output_type": "execute_result",
          "data": {
            "text/plain": [
              "10"
            ]
          },
          "metadata": {},
          "execution_count": 19
        }
      ]
    },
    {
      "cell_type": "code",
      "source": [
        "total = 0\n",
        "for idx in range(len(tp)):\n",
        "  total = total + tp[idx]"
      ],
      "metadata": {
        "id": "tjFdSz3jYFPn"
      },
      "execution_count": null,
      "outputs": []
    },
    {
      "cell_type": "code",
      "source": [
        "total"
      ],
      "metadata": {
        "colab": {
          "base_uri": "https://localhost:8080/"
        },
        "id": "qUt49MmnYbiI",
        "outputId": "24cd2820-517e-4740-8404-ec14fa3edf35"
      },
      "execution_count": null,
      "outputs": [
        {
          "output_type": "execute_result",
          "data": {
            "text/plain": [
              "150"
            ]
          },
          "metadata": {},
          "execution_count": 21
        }
      ]
    },
    {
      "cell_type": "markdown",
      "source": [
        "반복문과 딕셔너리"
      ],
      "metadata": {
        "id": "W5K1giegYgl3"
      }
    },
    {
      "cell_type": "code",
      "source": [
        "dic = {'이름' : '홍길동', '핸드폰' : '08078528400', '소속' : '인천대학교'}"
      ],
      "metadata": {
        "id": "mZbgbKOfYuuC"
      },
      "execution_count": null,
      "outputs": []
    },
    {
      "cell_type": "code",
      "source": [
        "dic.keys() #dic.keys() = 딕셔너리의 키(key)값을 리스트 형식으로 출력"
      ],
      "metadata": {
        "colab": {
          "base_uri": "https://localhost:8080/"
        },
        "id": "RnTr3Ap6Y8xK",
        "outputId": "a821aba8-bb74-4838-9d1d-155e819e57ae"
      },
      "execution_count": null,
      "outputs": [
        {
          "output_type": "execute_result",
          "data": {
            "text/plain": [
              "dict_keys(['이름', '핸드폰', '소속'])"
            ]
          },
          "metadata": {},
          "execution_count": 23
        }
      ]
    },
    {
      "cell_type": "code",
      "source": [
        "for key in dic.keys():\n",
        "  print(key)"
      ],
      "metadata": {
        "colab": {
          "base_uri": "https://localhost:8080/"
        },
        "id": "YroBGpZvZLKY",
        "outputId": "b711bd5f-f183-417f-c9fb-aa168d610031"
      },
      "execution_count": null,
      "outputs": [
        {
          "output_type": "stream",
          "name": "stdout",
          "text": [
            "이름\n",
            "핸드폰\n",
            "소속\n"
          ]
        }
      ]
    },
    {
      "cell_type": "code",
      "source": [
        "for key in dic.keys():\n",
        "  print(dic[key])"
      ],
      "metadata": {
        "colab": {
          "base_uri": "https://localhost:8080/"
        },
        "id": "YdfhmfmQZZJP",
        "outputId": "05458120-8263-4468-c5e3-bdc5f03bd31e"
      },
      "execution_count": null,
      "outputs": [
        {
          "output_type": "stream",
          "name": "stdout",
          "text": [
            "홍길동\n",
            "08078528400\n",
            "인천대학교\n"
          ]
        }
      ]
    },
    {
      "cell_type": "code",
      "source": [
        "dic.items() #키(key)와 데이터(value)를 튜플로 묶어, 리스트로 출력"
      ],
      "metadata": {
        "colab": {
          "base_uri": "https://localhost:8080/"
        },
        "id": "GiKju7WPZfiG",
        "outputId": "e8aeae2b-905a-4433-b297-e535e20300a2"
      },
      "execution_count": null,
      "outputs": [
        {
          "output_type": "execute_result",
          "data": {
            "text/plain": [
              "dict_items([('이름', '홍길동'), ('핸드폰', '08078528400'), ('소속', '인천대학교')])"
            ]
          },
          "metadata": {},
          "execution_count": 26
        }
      ]
    },
    {
      "cell_type": "code",
      "source": [
        "for items in dic.items():\n",
        "  print(items)"
      ],
      "metadata": {
        "colab": {
          "base_uri": "https://localhost:8080/"
        },
        "id": "hIIT8WWEZwyO",
        "outputId": "7c8d5ec1-65b1-409e-9ef9-25517cef135a"
      },
      "execution_count": null,
      "outputs": [
        {
          "output_type": "stream",
          "name": "stdout",
          "text": [
            "('이름', '홍길동')\n",
            "('핸드폰', '08078528400')\n",
            "('소속', '인천대학교')\n"
          ]
        }
      ]
    },
    {
      "cell_type": "code",
      "source": [
        "for items in dic.items():\n",
        "  print(items[0], items[1])\n",
        "  #튜플 속 0, 1번 자리를 가져온다."
      ],
      "metadata": {
        "colab": {
          "base_uri": "https://localhost:8080/"
        },
        "id": "B5a5PvLsZ8JU",
        "outputId": "e0fe7f98-966b-40a3-953b-4f1150f27e89"
      },
      "execution_count": null,
      "outputs": [
        {
          "output_type": "stream",
          "name": "stdout",
          "text": [
            "이름 홍길동\n",
            "핸드폰 08078528400\n",
            "소속 인천대학교\n"
          ]
        }
      ]
    },
    {
      "cell_type": "code",
      "source": [
        "for keys, value in dic.items():\n",
        "    #keys와 value 두 개의 변수에, dic의 key-value 튜플이 자동으로 풀려 저장된다.\n",
        "  print(key, ':', value)"
      ],
      "metadata": {
        "colab": {
          "base_uri": "https://localhost:8080/"
        },
        "id": "mUsPQCRKadPu",
        "outputId": "41821de7-7c0f-43dc-b888-a440e34d5ff9"
      },
      "execution_count": null,
      "outputs": [
        {
          "output_type": "stream",
          "name": "stdout",
          "text": [
            "소속 : 홍길동\n",
            "소속 : 08078528400\n",
            "소속 : 인천대학교\n"
          ]
        }
      ]
    },
    {
      "cell_type": "markdown",
      "source": [
        "##조건문 (선택제어)"
      ],
      "metadata": {
        "id": "xbRzhwkqayZF"
      }
    },
    {
      "cell_type": "markdown",
      "source": [
        "비교 연산자 : 같다(==), 보다 크다(>), 보다 작다(<), 이상(>=), 이하(<=), 같지않다(!=)"
      ],
      "metadata": {
        "id": "TiemHUzkbzz4"
      }
    },
    {
      "cell_type": "code",
      "source": [
        "# 변수 속에 들어있는 데이터 확인은 비교를 통해 알 수 있다.\n",
        "data = 100"
      ],
      "metadata": {
        "id": "EyPjM_xKa-Dr"
      },
      "execution_count": null,
      "outputs": []
    },
    {
      "cell_type": "code",
      "source": [
        "data > 50"
      ],
      "metadata": {
        "colab": {
          "base_uri": "https://localhost:8080/"
        },
        "id": "ScGZzGqJbqju",
        "outputId": "1c097b86-425d-423b-ddd5-2bc9d2e4ae54"
      },
      "execution_count": null,
      "outputs": [
        {
          "output_type": "execute_result",
          "data": {
            "text/plain": [
              "True"
            ]
          },
          "metadata": {},
          "execution_count": 31
        }
      ]
    },
    {
      "cell_type": "code",
      "source": [
        "data < 50"
      ],
      "metadata": {
        "colab": {
          "base_uri": "https://localhost:8080/"
        },
        "id": "vaTAoO9TcnTR",
        "outputId": "51afee13-863e-46ee-f520-dbbc93a9390d"
      },
      "execution_count": null,
      "outputs": [
        {
          "output_type": "execute_result",
          "data": {
            "text/plain": [
              "False"
            ]
          },
          "metadata": {},
          "execution_count": 32
        }
      ]
    },
    {
      "cell_type": "code",
      "source": [
        "data >=100"
      ],
      "metadata": {
        "colab": {
          "base_uri": "https://localhost:8080/"
        },
        "id": "jMHbaWjNcoE7",
        "outputId": "2fd68a99-40bb-4d1d-cfa2-25b55a94f349"
      },
      "execution_count": null,
      "outputs": [
        {
          "output_type": "execute_result",
          "data": {
            "text/plain": [
              "True"
            ]
          },
          "metadata": {},
          "execution_count": 33
        }
      ]
    },
    {
      "cell_type": "code",
      "source": [
        "data <= 100"
      ],
      "metadata": {
        "colab": {
          "base_uri": "https://localhost:8080/"
        },
        "id": "UUcJV8nTcqKZ",
        "outputId": "a11dd015-b292-4972-8a11-6e579e113798"
      },
      "execution_count": null,
      "outputs": [
        {
          "output_type": "execute_result",
          "data": {
            "text/plain": [
              "True"
            ]
          },
          "metadata": {},
          "execution_count": 34
        }
      ]
    },
    {
      "cell_type": "code",
      "source": [
        "data == 100"
      ],
      "metadata": {
        "colab": {
          "base_uri": "https://localhost:8080/"
        },
        "id": "lqvo5EfvcrF2",
        "outputId": "641f4ae3-5e2e-4e43-a9e5-ff185e420f6f"
      },
      "execution_count": null,
      "outputs": [
        {
          "output_type": "execute_result",
          "data": {
            "text/plain": [
              "True"
            ]
          },
          "metadata": {},
          "execution_count": 35
        }
      ]
    },
    {
      "cell_type": "code",
      "source": [
        "data != 100"
      ],
      "metadata": {
        "colab": {
          "base_uri": "https://localhost:8080/"
        },
        "id": "BlheyLAZctY2",
        "outputId": "d882eec7-5fa5-40af-bcb1-766fa3ee1338"
      },
      "execution_count": null,
      "outputs": [
        {
          "output_type": "execute_result",
          "data": {
            "text/plain": [
              "False"
            ]
          },
          "metadata": {},
          "execution_count": 36
        }
      ]
    },
    {
      "cell_type": "markdown",
      "source": [
        "##조건문 if"
      ],
      "metadata": {
        "id": "OObXmHPHcyUP"
      }
    },
    {
      "cell_type": "code",
      "source": [
        "Weight_Baggage = 50\n",
        "if Weight_Baggage > 20:\n",
        "  print('Need to pay extra charge for baggage')"
      ],
      "metadata": {
        "colab": {
          "base_uri": "https://localhost:8080/"
        },
        "id": "1gcW-DvDK6_z",
        "outputId": "d4fb8d0f-dd3f-40be-f2cc-804b81ef0a17"
      },
      "execution_count": null,
      "outputs": [
        {
          "output_type": "stream",
          "name": "stdout",
          "text": [
            "Need to pay extra charge for baggage\n"
          ]
        }
      ]
    },
    {
      "cell_type": "code",
      "source": [
        "if 1 == 1: # ←의 의미는 if 'true'값이라면 밑을 실행\n",
        "  print('True')"
      ],
      "metadata": {
        "colab": {
          "base_uri": "https://localhost:8080/"
        },
        "id": "WQCWSya8LBYL",
        "outputId": "e964fc6f-8fb2-4eab-b26d-ec3d2ca14993"
      },
      "execution_count": null,
      "outputs": [
        {
          "output_type": "stream",
          "name": "stdout",
          "text": [
            "True\n"
          ]
        }
      ]
    },
    {
      "cell_type": "code",
      "source": [
        "Weight_Baggage = 10\n",
        "if Weight_Baggage > 20:# ←가 false이기에 출력값은 없다.\n",
        "  print('Need to pay extra charge for baggage')"
      ],
      "metadata": {
        "id": "U0D56ozxLcQW"
      },
      "execution_count": null,
      "outputs": []
    },
    {
      "cell_type": "code",
      "source": [
        "Weight_Baggage = 10\n",
        "if Weight_Baggage > 20:\n",
        "  print('Need to pay extra charge for baggage')\n",
        "else: # ← if가 false일 경우 시행\n",
        "  print('Don\\'t need to pay extra charge')"
      ],
      "metadata": {
        "colab": {
          "base_uri": "https://localhost:8080/"
        },
        "id": "0B1FduJOLrCQ",
        "outputId": "a7ea318b-876d-4cfd-f737-d1291712aee5"
      },
      "execution_count": null,
      "outputs": [
        {
          "output_type": "stream",
          "name": "stdout",
          "text": [
            "Don't need to pay extra charge\n"
          ]
        }
      ]
    },
    {
      "cell_type": "markdown",
      "source": [
        "리스트에 담긴 숫자에 대해 짝,홀수를 판단하고 각각을 누적합하는 코드를 제작"
      ],
      "metadata": {
        "id": "KhNjwfNrMQTI"
      }
    },
    {
      "cell_type": "code",
      "source": [
        "Odd_Total = 0\n",
        "Even_Total = 0\n",
        "num = [1, 2, 3, 4, 5, 6, 7, 8, 9, 10]\n",
        "\n",
        "for idx in range(len(num)):\n",
        "  mod = num[idx] % 2 #modulis = 나머지\n",
        "  if mod == 0:\n",
        "    Even_Total = Even_Total + num[idx]\n",
        "  else:\n",
        "    Odd_Total = Odd_Total + num[idx]\n",
        "\n",
        "print('Odd_Total = ', Odd_Total, ',', 'Even_Total = ', Even_Total)\n"
      ],
      "metadata": {
        "colab": {
          "base_uri": "https://localhost:8080/"
        },
        "id": "N2DDasQWMrMQ",
        "outputId": "19787810-8e42-48e4-84e8-126d19c4235f"
      },
      "execution_count": null,
      "outputs": [
        {
          "output_type": "stream",
          "name": "stdout",
          "text": [
            "Odd_Total =  25 , Even_Total =  30\n"
          ]
        }
      ]
    },
    {
      "cell_type": "code",
      "source": [
        "a = list(map(int, input().split()))\n",
        "\n",
        "for i in range(1):\n",
        "    if a[0] > a[1]:print('>')\n",
        "    if a[0]==a[1]: print('=')\n",
        "    if a[0] < a[1]: print('<')"
      ],
      "metadata": {
        "colab": {
          "base_uri": "https://localhost:8080/"
        },
        "id": "Z_icyuBWkX-f",
        "outputId": "6465736b-174f-440f-e6ce-323fa719d7fe"
      },
      "execution_count": null,
      "outputs": [
        {
          "output_type": "stream",
          "name": "stdout",
          "text": [
            "1 2 3\n",
            "<\n"
          ]
        }
      ]
    },
    {
      "cell_type": "code",
      "source": [
        "a = int(input())\n",
        "\n",
        "if a//10 > 8: print('A')\n",
        "elif a//10 == 8: print('B')\n",
        "elif a//10 == 7: print('C')\n",
        "elif a//10 == 6: print('D')    \n",
        "else: print('F')"
      ],
      "metadata": {
        "colab": {
          "base_uri": "https://localhost:8080/"
        },
        "id": "_TRqXYksmvxw",
        "outputId": "73c6e3c6-dabc-425c-8aa7-4b96e9254385"
      },
      "execution_count": null,
      "outputs": [
        {
          "output_type": "stream",
          "name": "stdout",
          "text": [
            "20\n",
            "F\n"
          ]
        }
      ]
    },
    {
      "cell_type": "code",
      "source": [
        "a = int(input())\n",
        "\n",
        "if a%100 != 0:\n",
        "    if a%100%4==0: print('1')\n",
        "else: print('0')"
      ],
      "metadata": {
        "colab": {
          "base_uri": "https://localhost:8080/"
        },
        "id": "kuJyvZBXtjtg",
        "outputId": "bd6ed58f-0f8d-49ed-b246-a8993a2dd792"
      },
      "execution_count": null,
      "outputs": [
        {
          "output_type": "stream",
          "name": "stdout",
          "text": [
            "2004\n",
            "1\n"
          ]
        }
      ]
    },
    {
      "cell_type": "code",
      "source": [
        "(15-45)%60"
      ],
      "metadata": {
        "colab": {
          "base_uri": "https://localhost:8080/"
        },
        "id": "qadUmKDJzHWw",
        "outputId": "abb2907c-d1bb-4ac1-950c-74be8eadad84"
      },
      "execution_count": null,
      "outputs": [
        {
          "output_type": "execute_result",
          "data": {
            "text/plain": [
              "30"
            ]
          },
          "metadata": {},
          "execution_count": 23
        }
      ]
    }
  ]
}